{
 "cells": [
  {
   "cell_type": "code",
   "execution_count": 1,
   "id": "7bd5af85",
   "metadata": {},
   "outputs": [
    {
     "name": "stdout",
     "output_type": "stream",
     "text": [
      "animal is created..\n",
      "animal is created..\n",
      "monkey\n",
      "animal..\n",
      "animal is walk\n",
      "animal is run\n"
     ]
    }
   ],
   "source": [
    "class animal:\n",
    "    def __init__(self):\n",
    "        print(\"animal is created..\")\n",
    "    def toString(self):\n",
    "        print(\"animal..\")\n",
    "    def walk(self):\n",
    "        print(\"animal is walk\")\n",
    "    def run(self):\n",
    "        print(\"animal is run\")\n",
    "        \n",
    "#child\n",
    "class monkey(animal):\n",
    "    def __init__(self):\n",
    "        super().__init__()\n",
    "        \n",
    "    def toString(self):\n",
    "        print(\"monkey\")\n",
    "    def climb(self):\n",
    "        print(\"monkey can climb\")\n",
    "\n",
    "monkey1 = monkey()\n",
    "animal1 = animal()\n",
    "monkey1.toString()\n",
    "animal1.toString()\n",
    "monkey1.walk()\n",
    "animal1.run()"
   ]
  },
  {
   "cell_type": "code",
   "execution_count": null,
   "id": "2f191671",
   "metadata": {},
   "outputs": [],
   "source": []
  }
 ],
 "metadata": {
  "kernelspec": {
   "display_name": "Python 3 (ipykernel)",
   "language": "python",
   "name": "python3"
  },
  "language_info": {
   "codemirror_mode": {
    "name": "ipython",
    "version": 3
   },
   "file_extension": ".py",
   "mimetype": "text/x-python",
   "name": "python",
   "nbconvert_exporter": "python",
   "pygments_lexer": "ipython3",
   "version": "3.10.8"
  }
 },
 "nbformat": 4,
 "nbformat_minor": 5
}
